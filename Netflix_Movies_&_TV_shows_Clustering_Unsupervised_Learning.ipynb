{
  "nbformat": 4,
  "nbformat_minor": 0,
  "metadata": {
    "colab": {
      "private_outputs": true,
      "provenance": [],
      "collapsed_sections": [
        "w6K7xa23Elo4",
        "gIfDvo9L0UH2"
      ],
      "include_colab_link": true
    },
    "kernelspec": {
      "name": "python3",
      "display_name": "Python 3"
    },
    "language_info": {
      "name": "python"
    }
  },
  "cells": [
    {
      "cell_type": "markdown",
      "metadata": {
        "id": "view-in-github",
        "colab_type": "text"
      },
      "source": [
        "<a href=\"https://colab.research.google.com/github/Roman54R/Netflix-Movies-TV-shows-Clustering--Unsupervised-Learning/blob/main/Netflix_Movies_%26_TV_shows_Clustering_Unsupervised_Learning.ipynb\" target=\"_parent\"><img src=\"https://colab.research.google.com/assets/colab-badge.svg\" alt=\"Open In Colab\"/></a>"
      ]
    },
    {
      "cell_type": "markdown",
      "source": [
        "# **Project Name**    - Netflix Movies & TV shows Clustering -Unsupervised Learning\n",
        "\n",
        "\n",
        "\n"
      ],
      "metadata": {
        "id": "vncDsAP0Gaoa"
      }
    },
    {
      "cell_type": "markdown",
      "source": [
        "\n",
        "Unsupervised\n",
        "##### **Contribution**    - Individual\n",
        "##### **Team Member 1 -** Shubham Kumar Raman\n",
        "\n"
      ],
      "metadata": {
        "id": "beRrZCGUAJYm"
      }
    },
    {
      "cell_type": "markdown",
      "source": [
        "# **Project Summary -**\n",
        "This dataset consists of tv shows and movies available on Netflix as of 2019. The dataset is collected from Flixable which is a third-party Netflix search engine. In 2018, they released an interesting report which shows that the number of TV shows on Netflix has nearly tripled since 2010. The streaming service’s number of movies has decreased by more than 2,000 titles since 2010, while its number of TV shows has nearly tripled. It will be interesting to explore what all other insights can be obtained from the same dataset.\n",
        "\n",
        "Integrating this dataset with other external datasets such as IMDB ratings, rotten tomatoes can also provide many interesting findings.\n",
        "\n",
        "In this project, you are required to do\n",
        "\n",
        "Exploratory Data Analysis\n",
        "Understanding what type content is available in different countries\n",
        "If Netflix has been increasingly focusing on TV rather than movies in recent years.\n",
        "Clustering similar content by matching text-based features"
      ],
      "metadata": {
        "id": "FJNUwmbgGyua"
      }
    },
    {
      "cell_type": "markdown",
      "source": [
        "# **GitHub Link -**"
      ],
      "metadata": {
        "id": "w6K7xa23Elo4"
      }
    },
    {
      "cell_type": "markdown",
      "source": [
        "Provide your GitHub Link here."
      ],
      "metadata": {
        "id": "h1o69JH3Eqqn"
      }
    },
    {
      "cell_type": "markdown",
      "source": [
        "# **Problem Statement**\n"
      ],
      "metadata": {
        "id": "yQaldy8SH6Dl"
      }
    },
    {
      "cell_type": "markdown",
      "source": [
        "# ***Let's Begin !***"
      ],
      "metadata": {
        "id": "O_i_v8NEhb9l"
      }
    },
    {
      "cell_type": "markdown",
      "source": [
        "## ***1. Know Your Data***"
      ],
      "metadata": {
        "id": "HhfV-JJviCcP"
      }
    },
    {
      "cell_type": "markdown",
      "source": [
        "### Import Libraries"
      ],
      "metadata": {
        "id": "Y3lxredqlCYt"
      }
    },
    {
      "cell_type": "code",
      "source": [
        "# Import Libraries\n",
        "import numpy as np\n",
        "import pandas as pd\n",
        "import math\n",
        "import seaborn as sns\n",
        "import matplotlib.pyplot as plt\n",
        "import matplotlib.ticker as mtick\n",
        "from matplotlib.pyplot import figure\n",
        "import plotly.graph_objects as go\n",
        "import plotly.offline as py\n",
        "import plotly.express as px\n",
        "from datetime import datetime\n",
        "\n",
        "import plotly.graph_objects as go\n",
        "import plotly.express as px\n",
        "from plotly.subplots import make_subplots\n",
        "from plotly.offline import init_notebook_mode, iplot\n",
        "import plotly.offline as po\n",
        "import plotly.io as pio\n",
        "\n",
        "from collections import Counter\n",
        "from sklearn import preprocessing\n",
        "from sklearn.feature_extraction.text import TfidfVectorizer\n",
        "from sklearn.model_selection import train_test_split, KFold\n",
        "from nltk.corpus import stopwords\n",
        "from nltk.stem.snowball import SnowballStemmer\n",
        "from sklearn.decomposition import PCA\n",
        "\n",
        "import warnings\n",
        "warnings.filterwarnings('ignore')"
      ],
      "metadata": {
        "id": "M8Vqi-pPk-HR"
      },
      "execution_count": null,
      "outputs": []
    },
    {
      "cell_type": "markdown",
      "source": [
        "### Dataset Loading"
      ],
      "metadata": {
        "id": "3RnN4peoiCZX"
      }
    },
    {
      "cell_type": "code",
      "source": [
        "# Load Dataset\n",
        "from google.colab import drive\n",
        "drive.mount('/content/drive')"
      ],
      "metadata": {
        "id": "4CkvbW_SlZ_R"
      },
      "execution_count": null,
      "outputs": []
    },
    {
      "cell_type": "code",
      "source": [
        "# Loading the dataset\n",
        "nfdb = pd.read_csv('/content/drive/MyDrive/pyt/Netflix/NETFLIX MOVIES AND TV SHOWS CLUSTERING.csv')"
      ],
      "metadata": {
        "id": "GS7UxM38pfOS"
      },
      "execution_count": null,
      "outputs": []
    },
    {
      "cell_type": "markdown",
      "source": [
        "### Dataset First View"
      ],
      "metadata": {
        "id": "x71ZqKXriCWQ"
      }
    },
    {
      "cell_type": "code",
      "source": [
        "# Dataset First Look\n",
        "nfdb.head()"
      ],
      "metadata": {
        "id": "LWNFOSvLl09H"
      },
      "execution_count": null,
      "outputs": []
    },
    {
      "cell_type": "code",
      "source": [
        "nfdb['title'].value_counts()"
      ],
      "metadata": {
        "id": "gkFOSaI7p8Z8"
      },
      "execution_count": null,
      "outputs": []
    },
    {
      "cell_type": "markdown",
      "source": [
        "### Dataset Rows & Columns count"
      ],
      "metadata": {
        "id": "7hBIi_osiCS2"
      }
    },
    {
      "cell_type": "code",
      "source": [
        "# Dataset Rows & Columns count\n",
        "nfdb.index"
      ],
      "metadata": {
        "id": "Kllu7SJgmLij"
      },
      "execution_count": null,
      "outputs": []
    },
    {
      "cell_type": "code",
      "source": [
        "nfdb.shape"
      ],
      "metadata": {
        "id": "JZybifVvqQbD"
      },
      "execution_count": null,
      "outputs": []
    },
    {
      "cell_type": "code",
      "source": [
        "nfdb.columns"
      ],
      "metadata": {
        "id": "bcPv_0j0qVd8"
      },
      "execution_count": null,
      "outputs": []
    },
    {
      "cell_type": "markdown",
      "source": [
        "### Dataset Information"
      ],
      "metadata": {
        "id": "JlHwYmJAmNHm"
      }
    },
    {
      "cell_type": "code",
      "source": [
        "# Dataset Info\n",
        "nfdb.info()"
      ],
      "metadata": {
        "id": "e9hRXRi6meOf"
      },
      "execution_count": null,
      "outputs": []
    },
    {
      "cell_type": "markdown",
      "source": [
        "#### Duplicate Values"
      ],
      "metadata": {
        "id": "35m5QtbWiB9F"
      }
    },
    {
      "cell_type": "code",
      "source": [
        "# Dataset Duplicate Value Count\n",
        "nfdb.duplicated().sum()"
      ],
      "metadata": {
        "id": "1sLdpKYkmox0"
      },
      "execution_count": null,
      "outputs": []
    },
    {
      "cell_type": "markdown",
      "source": [
        "#### Missing Values/Null Values"
      ],
      "metadata": {
        "id": "PoPl-ycgm1ru"
      }
    },
    {
      "cell_type": "code",
      "source": [
        "# Missing Values/Null Values Count\n",
        "nfdb.isnull().sum()"
      ],
      "metadata": {
        "id": "GgHWkxvamxVg"
      },
      "execution_count": null,
      "outputs": []
    },
    {
      "cell_type": "code",
      "source": [
        "# Visualizing the missing values\n",
        "sns.heatmap(nfdb.isnull(), cbar=False)"
      ],
      "metadata": {
        "id": "3q5wnI3om9sJ"
      },
      "execution_count": null,
      "outputs": []
    },
    {
      "cell_type": "code",
      "source": [
        "#handeling the missing values\n",
        "nfdb['cast'].fillna(value='No cast',inplace=True)\n",
        "nfdb['country'].fillna(value='No country',inplace=True)\n",
        "nfdb['director'].fillna(value='No director',inplace=True)\n"
      ],
      "metadata": {
        "id": "3VNkIA5Gq4Pp"
      },
      "execution_count": null,
      "outputs": []
    },
    {
      "cell_type": "code",
      "source": [
        "# Cheking the changes done in data cleaning\n",
        "nfdb.isnull().sum()"
      ],
      "metadata": {
        "id": "V0C1PKY_rSiY"
      },
      "execution_count": null,
      "outputs": []
    },
    {
      "cell_type": "markdown",
      "source": [
        "### What did you know about your dataset?"
      ],
      "metadata": {
        "id": "H0kj-8xxnORC"
      }
    },
    {
      "cell_type": "markdown",
      "source": [
        "Answer Here\n",
        "\n",
        "This dataset contain information about various TV shows and movies available on Netflix, including details like the production country, release year, rating, duration, genre, and a description of each title. It consists of 12 columns and 7787 rows.\n",
        "\n"
      ],
      "metadata": {
        "id": "gfoNAAC-nUe_"
      }
    },
    {
      "cell_type": "markdown",
      "source": [
        "## ***2. Understanding Your Variables***"
      ],
      "metadata": {
        "id": "nA9Y7ga8ng1Z"
      }
    },
    {
      "cell_type": "code",
      "source": [
        "# Dataset Columns\n",
        "nfdb.columns"
      ],
      "metadata": {
        "id": "j7xfkqrt5Ag5"
      },
      "execution_count": null,
      "outputs": []
    },
    {
      "cell_type": "code",
      "source": [
        "# Dataset Describe\n",
        "nfdb.describe(include='all')"
      ],
      "metadata": {
        "id": "DnOaZdaE5Q5t"
      },
      "execution_count": null,
      "outputs": []
    },
    {
      "cell_type": "markdown",
      "source": [
        "### Variables Description"
      ],
      "metadata": {
        "id": "PBTbrJXOngz2"
      }
    },
    {
      "cell_type": "markdown",
      "source": [
        "Answer Here\n",
        "\n",
        "show_id : Unique ID for every Movie / Tv Show\n",
        "\n",
        "type : Identifier - A Movie or TV Show\n",
        "\n",
        "title : Title of the Movie / Tv Show\n",
        "\n",
        "director : Director of the Movie\n",
        "\n",
        "cast : Actors involved in the movie / show\n",
        "\n",
        "country : Country where the movie / show was produced\n",
        "\n",
        "date_added : Date it was added on Netflix\n",
        "\n",
        "release_year : Actual Releaseyear of the movie / show\n",
        "\n",
        "rating : TV Rating of the movie / show\n",
        "\n",
        "duration : Total Duration - in minutes or number of seasons\n",
        "\n",
        "listed_in : Genere\n",
        "\n",
        "description: The Summary description"
      ],
      "metadata": {
        "id": "aJV4KIxSnxay"
      }
    },
    {
      "cell_type": "markdown",
      "source": [
        "### Check Unique Values for each variable."
      ],
      "metadata": {
        "id": "u3PMJOP6ngxN"
      }
    },
    {
      "cell_type": "code",
      "source": [
        "# Check Unique Values for each variable.\n",
        "print(nfdb.apply(lambda col: col.nunique()))"
      ],
      "metadata": {
        "id": "zms12Yq5n-jE"
      },
      "execution_count": null,
      "outputs": []
    },
    {
      "cell_type": "code",
      "source": [
        "#dividng the month and year seperated from the date_added column\n",
        "nfdb['date_added'] = pd.to_datetime(nfdb['date_added'], format='mixed')\n",
        "nfdb['year_added'] = nfdb['date_added'].dt.year\n",
        "nfdb['month_added'] = nfdb['date_added'].dt.month"
      ],
      "metadata": {
        "id": "3a_MzAjFtDoo"
      },
      "execution_count": null,
      "outputs": []
    },
    {
      "cell_type": "code",
      "source": [
        "nfdb.head()"
      ],
      "metadata": {
        "id": "CQVKjkO_t7QK"
      },
      "execution_count": null,
      "outputs": []
    },
    {
      "cell_type": "markdown",
      "source": [
        "## ***3. Data Vizualization, Storytelling & Experimenting with charts : Understand the relationships between variables***"
      ],
      "metadata": {
        "id": "GF8Ens_Soomf"
      }
    },
    {
      "cell_type": "markdown",
      "source": [
        "#### Chart - 1"
      ],
      "metadata": {
        "id": "0wOQAZs5pc--"
      }
    },
    {
      "cell_type": "code",
      "source": [
        "# Chart - 1 visualization code\n",
        "plt.figure(figsize=(12,6))\n",
        "plt.title(\"% of Netflix Titles that are Movies vs. TV Shows\")\n",
        "g = plt.pie(nfdb.type.value_counts(), explode=(0.025,0.025), labels=nfdb.type.value_counts().index, colors=['salmon','cornflowerblue'],autopct='%1.1f%%', startangle=180);\n",
        "plt.legend()\n",
        "plt.show()"
      ],
      "metadata": {
        "id": "7v_ESjsspbW7"
      },
      "execution_count": null,
      "outputs": []
    },
    {
      "cell_type": "markdown",
      "source": [
        "##### 1. Why did you pick the specific chart?"
      ],
      "metadata": {
        "id": "K5QZ13OEpz2H"
      }
    },
    {
      "cell_type": "markdown",
      "source": [
        "Answer Here.\n",
        "\n",
        "Here we have to showcase the data with few categories and represent in the percentage form.\n",
        "The chart is used to represent the types of content watched on Netflix, which are categorized as \"TV Show\" and \"Movie.\""
      ],
      "metadata": {
        "id": "XESiWehPqBRc"
      }
    },
    {
      "cell_type": "markdown",
      "source": [
        "##### 2. What is/are the insight(s) found from the chart?"
      ],
      "metadata": {
        "id": "lQ7QKXXCp7Bj"
      }
    },
    {
      "cell_type": "markdown",
      "source": [
        "Answer Here\n",
        "\n",
        "Movies constitute the majority, accounting for 69.1% of the content watched on Netflix, while TV shows make up a smaller percentage of 30.9%.\n"
      ],
      "metadata": {
        "id": "C_j1G7yiqdRP"
      }
    },
    {
      "cell_type": "markdown",
      "source": [
        "##### 3. Will the gained insights help creating a positive business impact?\n",
        "\n"
      ],
      "metadata": {
        "id": "448CDAPjqfQr"
      }
    },
    {
      "cell_type": "markdown",
      "source": [
        "Answer Here\n",
        "\n",
        "This data shows that people tend to enjoy shorter formats like TV shows rather than investing their time in longer movies that may be less engaging."
      ],
      "metadata": {
        "id": "3cspy4FjqxJW"
      }
    },
    {
      "cell_type": "markdown",
      "source": [
        "#### Chart - 2"
      ],
      "metadata": {
        "id": "KSlN3yHqYklG"
      }
    },
    {
      "cell_type": "code",
      "source": [
        "# Chart - 2 visualization code\n",
        "df_year_added = nfdb.groupby(['year_added', 'type'])['title'].count().reset_index()\n",
        "df_year_added = df_year_added.rename(columns={'title': 'count'})\n",
        "plt.figure(figsize=(12,6))\n",
        "sns.lineplot(data=df_year_added, x='year_added', y='count', hue='type')\n",
        "plt.title('Content Added Over the Years')\n",
        "plt.xlabel('Year Added')\n",
        "plt.ylabel('Number of Titles')\n",
        "plt.legend(title='Content Type')\n",
        "plt.show()"
      ],
      "metadata": {
        "id": "R4YgtaqtYklH"
      },
      "execution_count": null,
      "outputs": []
    },
    {
      "cell_type": "markdown",
      "source": [
        "##### 1. Why did you pick the specific chart?"
      ],
      "metadata": {
        "id": "t6dVpIINYklI"
      }
    },
    {
      "cell_type": "markdown",
      "source": [
        "Answer Here.\n",
        "\n",
        "This chart shows us the yearly increment in the content on netflix categorised in the TV shows and movies"
      ],
      "metadata": {
        "id": "5aaW0BYyYklI"
      }
    },
    {
      "cell_type": "markdown",
      "source": [
        "##### 2. What is/are the insight(s) found from the chart?"
      ],
      "metadata": {
        "id": "ijmpgYnKYklI"
      }
    },
    {
      "cell_type": "markdown",
      "source": [
        "Answer Here\n",
        "\n",
        "The trend in the visualization indicates that between 2008 and 2022, there were relatively fewer TV shows and movies added to Netflix. However, starting from 2016, there was a slight increase in content additions. In 2019, there was a significant peak in the number of movies added, while TV shows experienced a similar trend but with a lesser increase compared to movies."
      ],
      "metadata": {
        "id": "PSx9atu2YklI"
      }
    },
    {
      "cell_type": "markdown",
      "source": [
        "##### 3. Will the gained insights help creating a positive business impact?\n",
        "Are there any insights that lead to negative growth? Justify with specific reason."
      ],
      "metadata": {
        "id": "-JiQyfWJYklI"
      }
    },
    {
      "cell_type": "markdown",
      "source": [
        "Answer Here\n",
        "\n",
        "The gained insights indicate a positive impact for Netflix as the demand for both TV shows and movies on the platform has been increasing rapidly over the years. This growth presents an opportunity for Netflix to provide more high-quality content to its users, thereby enhancing user satisfaction and engagement."
      ],
      "metadata": {
        "id": "BcBbebzrYklV"
      }
    },
    {
      "cell_type": "markdown",
      "source": [
        "#### Chart - 3"
      ],
      "metadata": {
        "id": "EM7whBJCYoAo"
      }
    },
    {
      "cell_type": "code",
      "source": [
        "fig, ax = plt.subplots(figsize=(15,6))\n",
        "sns.countplot(x='month_added', hue='type',lw=5, data=nfdb, ax=ax,palette=['#FF0000' ,'#0000FF'])\n"
      ],
      "metadata": {
        "id": "t6GMdE67YoAp"
      },
      "execution_count": null,
      "outputs": []
    },
    {
      "cell_type": "markdown",
      "source": [
        "##### 1. Why did you pick the specific chart?"
      ],
      "metadata": {
        "id": "fge-S5ZAYoAp"
      }
    },
    {
      "cell_type": "markdown",
      "source": [
        "Answer Here.\n",
        "\n",
        "Comparison between  the frequencies of TV show and movie additions for each month."
      ],
      "metadata": {
        "id": "5dBItgRVYoAp"
      }
    },
    {
      "cell_type": "markdown",
      "source": [
        "##### 2. What is/are the insight(s) found from the chart?"
      ],
      "metadata": {
        "id": "85gYPyotYoAp"
      }
    },
    {
      "cell_type": "markdown",
      "source": [
        "Answer Here\n",
        "\n",
        "Movies:\n",
        "\n",
        "January, October, and December appear to be the trending months for movie additions on Netflix compared to other months.\n",
        "\n",
        "Tv Shows:\n",
        "\n",
        "October, November, and December emerge as the trending months for TV show additions on Netflix compared to other months."
      ],
      "metadata": {
        "id": "4jstXR6OYoAp"
      }
    },
    {
      "cell_type": "markdown",
      "source": [
        "##### 3. Will the gained insights help creating a positive business impact?\n",
        "Are there any insights that lead to negative growth? Justify with specific reason."
      ],
      "metadata": {
        "id": "RoGjAbkUYoAp"
      }
    },
    {
      "cell_type": "markdown",
      "source": [
        "Answer Here\n",
        "\n",
        "The gained insights regarding the trending months for movies and TV shows on Netflix can potentially create a positive business impact. Here's why:\n",
        "\n",
        "1-Meeting Viewer Demand\n",
        "\n",
        "2-Capitalizing on Seasonal Trends\n",
        "\n",
        "3-Improved Competitiveness"
      ],
      "metadata": {
        "id": "zfJ8IqMcYoAp"
      }
    },
    {
      "cell_type": "markdown",
      "source": [
        "#### Chart - 4"
      ],
      "metadata": {
        "id": "4Of9eVA-YrdM"
      }
    },
    {
      "cell_type": "code",
      "source": [
        "\n",
        "import matplotlib.pyplot as plt\n",
        "nfdb['year_added'].fillna(0, inplace=True)\n",
        "nfdb['year_added'] = nfdb['year_added'].astype(int)\n",
        "\n",
        "# Separate data for Movies and TV Shows based on year_added\n",
        "df_movies_year = nfdb[nfdb['type'] == 'Movie'].groupby('year_added')['title'].count().reset_index(name='count')\n",
        "df_tv_year = nfdb[nfdb['type'] == 'TV Show'].groupby('year_added')['title'].count().reset_index(name='count')\n",
        "\n",
        "# Filter out the year 0 which represents missing values\n",
        "df_movies_year = df_movies_year[df_movies_year['year_added'] != 0]\n",
        "df_tv_year = df_tv_year[df_tv_year['year_added'] != 0]\n",
        "\n",
        "\n",
        "plt.figure(figsize=(12, 6))\n",
        "\n",
        "# Distplot for Movies\n",
        "sns.distplot(df_movies_year['year_added'], hist=False, kde=True, rug=True,\n",
        "             kde_kws={'shade': True, 'linewidth': 3},\n",
        "             label='Movies')\n",
        "\n",
        "# Distplot for TV Shows\n",
        "sns.distplot(df_tv_year['year_added'], hist=False, kde=True, rug=True,\n",
        "             kde_kws={'shade': True, 'linewidth': 3},\n",
        "             label='TV Shows')\n",
        "\n",
        "plt.title('Distribution of Content Added Over the Years by Type')\n",
        "plt.xlabel('Year Added')\n",
        "plt.ylabel('Density')\n",
        "plt.legend()\n",
        "plt.show()"
      ],
      "metadata": {
        "id": "irlUoxc8YrdO"
      },
      "execution_count": null,
      "outputs": []
    },
    {
      "cell_type": "markdown",
      "source": [
        "##### 1. Why did you pick the specific chart?"
      ],
      "metadata": {
        "id": "iky9q4vBYrdO"
      }
    },
    {
      "cell_type": "markdown",
      "source": [
        "Answer Here.\n",
        "\n",
        "The Distplot is a suitable choice for this analysis because it allows us to observe the frequency or count of movies and TV shows relesed on platfrom over the different years .\n"
      ],
      "metadata": {
        "id": "aJRCwT6DYrdO"
      }
    },
    {
      "cell_type": "markdown",
      "source": [
        "##### 2. What is/are the insight(s) found from the chart?"
      ],
      "metadata": {
        "id": "F6T5p64dYrdO"
      }
    },
    {
      "cell_type": "markdown",
      "source": [
        "Answer Here\n",
        "\n",
        "Analysis of the KDE analysis of the TV shows and Movies over the course of years.\n",
        "\n",
        "\n"
      ],
      "metadata": {
        "id": "Xx8WAJvtYrdO"
      }
    },
    {
      "cell_type": "markdown",
      "source": [
        "##### 3. Will the gained insights help creating a positive business impact?\n",
        "Are there any insights that lead to negative growth? Justify with specific reason."
      ],
      "metadata": {
        "id": "y-Ehk30pYrdP"
      }
    },
    {
      "cell_type": "markdown",
      "source": [
        "Answer Here\n",
        "\n",
        "In the analysis found that the TV shows are much popular amomg the year 2015 to 2020.\n",
        "At the same time moves are showing the saturation in the same years.\n",
        "\n",
        "The increase in the slight tilt of the audience towards TV shows shows us the demand of tv shows in the analysis"
      ],
      "metadata": {
        "id": "jLNxxz7MYrdP"
      }
    },
    {
      "cell_type": "markdown",
      "source": [
        "#### Chart - 5"
      ],
      "metadata": {
        "id": "bamQiAODYuh1"
      }
    },
    {
      "cell_type": "code",
      "source": [
        "# Add a new column 'release_timing' based on whether the release year equals the year added\n",
        "nfdb['release_timing'] = nfdb.apply(lambda row: 'Original' if row['release_year'] == row['year_added'] else 'After Release', axis=1)\n",
        "\n",
        "# Group by year added and release timing to count the number of titles\n",
        "df_release_timing = nfdb.groupby(['year_added', 'release_timing']).size().reset_index(name='count')\n",
        "\n",
        "# Filter out the year 0 if it's still present after cleaning\n",
        "df_release_timing = df_release_timing[df_release_timing['year_added'] != 0]\n",
        "\n",
        "# Create the chart\n",
        "plt.figure(figsize=(12, 6))\n",
        "sns.lineplot(data=df_release_timing, x='year_added', y='count', hue='release_timing',marker= 'o')\n",
        "plt.title('Content Added: Original vs. After Release Over the Years')\n",
        "plt.xlabel('Year Added')\n",
        "plt.ylabel('Number of Titles')\n",
        "plt.legend(title='Release Timing')\n",
        "plt.show()"
      ],
      "metadata": {
        "id": "TIJwrbroYuh3"
      },
      "execution_count": null,
      "outputs": []
    },
    {
      "cell_type": "markdown",
      "source": [
        "##### 1. Why did you pick the specific chart?"
      ],
      "metadata": {
        "id": "QHF8YVU7Yuh3"
      }
    },
    {
      "cell_type": "markdown",
      "source": [
        "Answer Here.\n",
        "\n",
        "A line chart is the best way of representing growth over a period, such as the proportion of \"originals\" and \"After relese \" in this case. It allows you to see the relative sizes of each category as a portion of the whole."
      ],
      "metadata": {
        "id": "dcxuIMRPYuh3"
      }
    },
    {
      "cell_type": "markdown",
      "source": [
        "##### 2. What is/are the insight(s) found from the chart?"
      ],
      "metadata": {
        "id": "GwzvFGzlYuh3"
      }
    },
    {
      "cell_type": "markdown",
      "source": [
        "Answer Here\n",
        "Increase in the after release shows with the increrease in the years from 2016 to 2020.\n"
      ],
      "metadata": {
        "id": "uyqkiB8YYuh3"
      }
    },
    {
      "cell_type": "markdown",
      "source": [
        "##### 3. Will the gained insights help creating a positive business impact?\n",
        "Are there any insights that lead to negative growth? Justify with specific reason."
      ],
      "metadata": {
        "id": "qYpmQ266Yuh3"
      }
    },
    {
      "cell_type": "markdown",
      "source": [
        "Answer Here\n",
        "\n",
        "Released vs After release shows us the after release will only required the copy rights. There is no requirments of production and directions time and production cost rquired.\n"
      ],
      "metadata": {
        "id": "_WtzZ_hCYuh4"
      }
    },
    {
      "cell_type": "markdown",
      "source": [
        "#### Chart - 6"
      ],
      "metadata": {
        "id": "OH-pJp9IphqM"
      }
    },
    {
      "cell_type": "code",
      "source": [
        "release_counts = df_release_timing.groupby('release_timing')['count'].sum()\n",
        "plt.figure(figsize=(8,8))\n",
        "plt.pie(\n",
        "    release_counts,\n",
        "    labels=release_counts.index,\n",
        "    autopct='%1.1f%%',\n",
        "    colors=['#FF9999', '#66B3FF'],\n",
        "    startangle=140\n",
        ")\n",
        "plt.title('Overall Split: Original vs After Release')\n",
        "plt.show()"
      ],
      "metadata": {
        "id": "kuRf4wtuphqN"
      },
      "execution_count": null,
      "outputs": []
    },
    {
      "cell_type": "markdown",
      "source": [
        "##### 1. Why did you pick the specific chart?"
      ],
      "metadata": {
        "id": "bbFf2-_FphqN"
      }
    },
    {
      "cell_type": "markdown",
      "source": [
        "Answer Here.\n",
        "\n",
        "The pie plot is a suitable choice for visualizing the distribution of categorical data, such as the proportion of \"originals\" and \"others\" in this case. It allows you to see the relative sizes of each category as a portion of the whole."
      ],
      "metadata": {
        "id": "loh7H2nzphqN"
      }
    },
    {
      "cell_type": "markdown",
      "source": [
        "##### 2. What is/are the insight(s) found from the chart?"
      ],
      "metadata": {
        "id": "_ouA3fa0phqN"
      }
    },
    {
      "cell_type": "markdown",
      "source": [
        "Answer Here\n",
        "\n",
        "Out of the movies available on Netflix, 30% are Netflix originals, while the remaining 70% are movies that were released earlier through different distribution channels and subsequently added to the Netflix"
      ],
      "metadata": {
        "id": "VECbqPI7phqN"
      }
    },
    {
      "cell_type": "markdown",
      "source": [
        "##### 3. Will the gained insights help creating a positive business impact?\n",
        "Are there any insights that lead to negative growth? Justify with specific reason."
      ],
      "metadata": {
        "id": "Seke61FWphqN"
      }
    },
    {
      "cell_type": "markdown",
      "source": [
        "Answer Here\n",
        "\n",
        "Yes, gaining insights can indeed help create a positive business impact. By understanding the distribution of movies on Netflix, such as the proportion of Netflix originals versus non-originals, the streaming service can make informed decisions about content acquisition and production."
      ],
      "metadata": {
        "id": "DW4_bGpfphqN"
      }
    },
    {
      "cell_type": "markdown",
      "source": [
        "#### Chart - 7"
      ],
      "metadata": {
        "id": "PIIx-8_IphqN"
      }
    },
    {
      "cell_type": "code",
      "source": [
        "# Chart - 7 visualization code\n",
        "cast = nfdb['cast'].str.split(',',expand=True).stack()\n",
        "cast = cast[cast != 'No cast']\n",
        "cast.value_counts()"
      ],
      "metadata": {
        "id": "lqAIGUfyphqO"
      },
      "execution_count": null,
      "outputs": []
    },
    {
      "cell_type": "code",
      "source": [
        "import matplotlib.pyplot as plt\n",
        "# Top 10 actors\n",
        "top_actors = cast.value_counts().head(10)\n",
        "\n",
        "# Create the bar chart\n",
        "plt.figure(figsize=(12, 6))\n",
        "sns.barplot(x=top_actors.index, y=top_actors.values, palette='viridis')\n",
        "plt.title('Top 10 Actors on Netflix')\n",
        "plt.xlabel('Actor')\n",
        "plt.ylabel('Number of Titles')\n",
        "plt.xticks(rotation=45, ha='right')\n",
        "plt.tight_layout()\n",
        "plt.show()"
      ],
      "metadata": {
        "id": "Y_Mxk9PGF_EZ"
      },
      "execution_count": null,
      "outputs": []
    },
    {
      "cell_type": "markdown",
      "source": [
        "##### 1. Why did you pick the specific chart?"
      ],
      "metadata": {
        "id": "t27r6nlMphqO"
      }
    },
    {
      "cell_type": "markdown",
      "source": [
        "Answer Here\n",
        "\n",
        "The Vertical orientation of the bars allows for easier reading and comparison of the values. The length of each bar represents the number of movies an actor has appeared in.\n"
      ],
      "metadata": {
        "id": "iv6ro40sphqO"
      }
    },
    {
      "cell_type": "markdown",
      "source": [
        "##### 2. What is/are the insight(s) found from the chart?"
      ],
      "metadata": {
        "id": "r2jJGEOYphqO"
      }
    },
    {
      "cell_type": "markdown",
      "source": [
        "Answer Here\n",
        "\n",
        "The actor with the highest appearance is Anupam Kher."
      ],
      "metadata": {
        "id": "Po6ZPi4hphqO"
      }
    },
    {
      "cell_type": "markdown",
      "source": [
        "#### Chart - 8"
      ],
      "metadata": {
        "id": "BZR9WyysphqO"
      }
    },
    {
      "cell_type": "code",
      "source": [
        "genre = nfdb['listed_in'].str.split(',',expand=True).stack()\n",
        "genre.value_counts()\n",
        "\n",
        "# Top 10 Genres\n",
        "top_genres = genre.value_counts().head(10)\n",
        "\n",
        "# Create the pie chart\n",
        "plt.figure(figsize=(10, 10))\n",
        "plt.pie(\n",
        "    top_genres,\n",
        "    labels=top_genres.index,\n",
        "    autopct='%1.1f%%',\n",
        "    startangle=140,\n",
        "    colors=sns.color_palette('pastel')\n",
        ")\n",
        "plt.title('Top 10 Genres on Netflix (Percentage)')\n",
        "plt.axis('equal')  # Equal aspect ratio ensures that pie is drawn as a circle.\n",
        "plt.show()"
      ],
      "metadata": {
        "id": "TdPTWpAVphqO"
      },
      "execution_count": null,
      "outputs": []
    },
    {
      "cell_type": "markdown",
      "source": [
        "##### 1. Why did you pick the specific chart?"
      ],
      "metadata": {
        "id": "jj7wYXLtphqO"
      }
    },
    {
      "cell_type": "markdown",
      "source": [
        "Answer Here.\n",
        "\n",
        "The pie chart's circular shape allows viewers to quickly compare the sizes of different genres by observing the relative areas of the slices. The accompanying labels and percentage values outside the slices provide additional information and enhance the readability of the chart."
      ],
      "metadata": {
        "id": "Ob8u6rCTphqO"
      }
    },
    {
      "cell_type": "markdown",
      "source": [
        "##### 2. What is/are the insight(s) found from the chart?"
      ],
      "metadata": {
        "id": "eZrbJ2SmphqO"
      }
    },
    {
      "cell_type": "markdown",
      "source": [
        "Answer Here\n",
        "\n",
        "Answer Here.\n",
        "\n",
        "In this chart, the top three genres on Netflix based on their distribution are:\n",
        "\n",
        "1-International Movies : 24.5%\n",
        "\n",
        "2-Drama 14.6%\n",
        "\n",
        "3-Comedies 11.3%\n",
        "\n",
        "These genres have the highest percentages compared to the other genres included in the top 10 list."
      ],
      "metadata": {
        "id": "mZtgC_hjphqO"
      }
    },
    {
      "cell_type": "markdown",
      "source": [
        "##### 3. Will the gained insights help creating a positive business impact?\n",
        "Are there any insights that lead to negative growth? Justify with specific reason."
      ],
      "metadata": {
        "id": "rFu4xreNphqO"
      }
    },
    {
      "cell_type": "markdown",
      "source": [
        "Answer Here\n",
        "\n",
        "The gained insights from analyzing the distribution of genres on Netflix can potentially help create a positive business impact in several ways.\n",
        "\n",
        "Content Curation : By focusing on genres that have high viewer demand, Netflix can ensure that it offers a diverse and appealing selection of movies and shows to its subscribers\n",
        "\n",
        "Targeted Acquisitions and Productions : It can guide them in identifying genres that are in high demand and have a proven audience. This can optimize their investments in content creation and acquisition\n",
        "\n",
        "Personalized Recommendations: Personalized recommendations for individual users, improving their overall experience and encouraging them to spend more time on the platform.\n"
      ],
      "metadata": {
        "id": "ey_0qi68phqO"
      }
    },
    {
      "cell_type": "markdown",
      "source": [
        "#### Chart - 9"
      ],
      "metadata": {
        "id": "YJ55k-q6phqO"
      }
    },
    {
      "cell_type": "code",
      "source": [
        "country = nfdb['country'].str.split(',',expand=True).stack()\n",
        "country = country[country != 'No country']\n",
        "country = country.str.strip() # Remove leading/trailing whitespace\n",
        "\n",
        "# Count the occurrences of each country\n",
        "country_counts = country.value_counts()\n",
        "\n",
        "print(\"Content Count by Country:\")\n",
        "print(country_counts.head(20))\n"
      ],
      "metadata": {
        "id": "PJ32p5zQOLsH"
      },
      "execution_count": null,
      "outputs": []
    },
    {
      "cell_type": "markdown",
      "source": [
        "##### 2. What is/are the insight(s) found from the chart?"
      ],
      "metadata": {
        "id": "OVtJsKN_phqQ"
      }
    },
    {
      "cell_type": "markdown",
      "source": [
        "Answer Here\n",
        "\n",
        "The table shows the count of counsumers from the different counrty.\n",
        "\n",
        "1. The US is the largst consumer, increase the number of releases and import to cater the importent geres help us the increase the average watch hours.\n",
        "2. India is the next in the row which show us the potential flagship customer which increase the growth and show us the new genres reqired apart from the US.\n"
      ],
      "metadata": {
        "id": "ngGi97qjphqQ"
      }
    },
    {
      "cell_type": "markdown",
      "source": [
        "##### 3. Will the gained insights help creating a positive business impact?\n",
        "Are there any insights that lead to negative growth? Justify with specific reason."
      ],
      "metadata": {
        "id": "lssrdh5qphqQ"
      }
    },
    {
      "cell_type": "markdown",
      "source": [
        "Answer Here\n",
        "\n",
        "The gained insights can potentially help create a positive business impact in the following ways:\n",
        "\n",
        "1. Market Expansions.\n",
        "2. Content localization."
      ],
      "metadata": {
        "id": "tBpY5ekJphqQ"
      }
    },
    {
      "cell_type": "markdown",
      "source": [
        "#### Chart - 10"
      ],
      "metadata": {
        "id": "U2RJ9gkRphqQ"
      }
    },
    {
      "cell_type": "markdown",
      "source": [
        "Variables Description- Rating\n",
        "\n",
        "TV-Y: This rating means that the content is appropriate for all children. It is aimed at children aged 2-6 and may include educational programming.\n",
        "\n",
        "TV-Y7: This rating means that the content is appropriate for children aged 7 and up. It may contain mild violence, comic mischief, or scary content that may not be suitable for younger children.\n",
        "\n",
        "TV-Y7-FV: This rating means that the content is appropriate for children aged 7 and up, but may contain more intense violence. The \"FV\" stands for \"fantasy violence\".\n",
        "\n",
        "TV-G: This rating means that the content is appropriate for all ages. It may contain mild language or violence, but nothing too intense.\n",
        "\n",
        "TV-PG: This rating means that parental guidance is suggested. The content may contain material that parents might find inappropriate for younger children. It may include mild to moderate language, violence, or suggestive content.\n",
        "\n",
        "TV-14: This rating means that the content is appropriate for viewers aged 14 and up. It may include intense violence, strong language, or sexual situations.\n",
        "\n",
        "TV-MA: This rating means that the content is intended for mature audiences only. It may include graphic violence, explicit sexual content, or strong language.\n",
        "\n",
        "G- This rating means that the content is appropriate for all ages. It is usually intended for young children and may include animated or family-friendly content.\n",
        "\n",
        "PG: This rating means that parental guidance is suggested. The content may include mild violence, language, or suggestive themes.\n",
        "\n",
        "PG-13:This rating means that the content is appropriate for teens aged 13 and up. It may include intense violence, language, or suggestive content.\n",
        "\n",
        "R: This rating means that the content is intended for adults. It may include graphic violence, strong language, or nudity.\n",
        "\n",
        "NC-17: This rating means that the content is intended for mature audiences only and may contain explicit sexual content or violence that is not suitable for minors.\n",
        "\n",
        "NR: This rating means that no rating has been assigned yet or that the content is not rated by a particular board."
      ],
      "metadata": {
        "id": "u01954Wlraps"
      }
    },
    {
      "cell_type": "code",
      "source": [
        "import matplotlib.pyplot as plt\n",
        "# Chart - 10 visualization code\n",
        "ratings = nfdb['rating'].value_counts().reset_index()\n",
        "ratings.columns = ['rating', 'count']\n",
        "\n",
        "print(\"Count of different ratings:\")\n",
        "print(ratings)\n",
        "\n",
        "plt.figure(figsize=(10, 6))\n",
        "sns.barplot(data=ratings, x='rating', y='count', palette='viridis', order=ratings.sort_values(by='count', ascending=False)['rating'])\n",
        "plt.title('Distribution of Content Ratings on Netflix')\n",
        "plt.xlabel('Rating')\n",
        "plt.ylabel('Number of Titles')\n",
        "plt.xticks(rotation=45, ha='right')\n",
        "plt.tight_layout()\n",
        "plt.show()"
      ],
      "metadata": {
        "id": "GM7a4YP4phqQ"
      },
      "execution_count": null,
      "outputs": []
    },
    {
      "cell_type": "markdown",
      "source": [
        "##### 1. Why did you pick the specific chart?"
      ],
      "metadata": {
        "id": "1M8mcRywphqQ"
      }
    },
    {
      "cell_type": "markdown",
      "source": [
        "Answer Here.\n",
        "\n",
        "The both chart combined shows us the rating comparison in the different categories in TV and Moves.\n"
      ],
      "metadata": {
        "id": "8agQvks0phqQ"
      }
    },
    {
      "cell_type": "markdown",
      "source": [
        "##### 2. What is/are the insight(s) found from the chart?"
      ],
      "metadata": {
        "id": "tgIPom80phqQ"
      }
    },
    {
      "cell_type": "markdown",
      "source": [
        "Answer Here\n",
        "\n",
        "TV-MA: This rating means that the content is intended for mature audiences only. It may include graphic violence, explicit sexual content, or strong language\n",
        "\n",
        "In terms of ratings, the most common rating is TV-MA, which applies to both movies and TV shows."
      ],
      "metadata": {
        "id": "Qp13pnNzphqQ"
      }
    },
    {
      "cell_type": "markdown",
      "source": [
        "##### 3. Will the gained insights help creating a positive business impact?\n",
        "Are there any insights that lead to negative growth? Justify with specific reason."
      ],
      "metadata": {
        "id": "JMzcOPDDphqR"
      }
    },
    {
      "cell_type": "markdown",
      "source": [
        "Answer Here\n",
        "\n",
        "The insight that TV-MA is the most common rating for both movies and TV shows can inform content strategies, audience targeting, programming decisions, and content diversity to drive positive business impact in terms of increased viewership and customer satisfaction"
      ],
      "metadata": {
        "id": "R4Ka1PC2phqR"
      }
    },
    {
      "cell_type": "markdown",
      "source": [
        "#### Chart - 11"
      ],
      "metadata": {
        "id": "x-EpHcCOp1ci"
      }
    },
    {
      "cell_type": "code",
      "source": [
        "ratings = {\n",
        "    'TV-PG': 'Older Kids',\n",
        "    'TV-MA': 'Adults',\n",
        "    'TV-Y7-FV': 'Older Kids',\n",
        "    'TV-Y7': 'Older Kids',\n",
        "    'TV-14': 'Teens',\n",
        "    'R': 'Adults',\n",
        "    'TV-Y': 'Kids',\n",
        "    'NR': 'Adults',\n",
        "    'PG-13': 'Teens',\n",
        "    'TV-G': 'Kids',\n",
        "    'PG': 'Older Kids',\n",
        "    'G': 'Kids',\n",
        "    'UR': 'Adults',\n",
        "    'NC-17': 'Adults'\n",
        "}\n",
        "nfdb['target_ages'] = nfdb['rating'].replace(ratings)"
      ],
      "metadata": {
        "id": "mAQTIvtqp1cj"
      },
      "execution_count": null,
      "outputs": []
    },
    {
      "cell_type": "code",
      "source": [
        "# prompt: Create the heatmap correlation of target age and countries of top 20 counties\n",
        "\n",
        "import pandas as pd\n",
        "import matplotlib.pyplot as plt\n",
        "# Get the top 20 countries by content count\n",
        "top_countries = country_counts.head(20).index\n",
        "\n",
        "# Filter the dataframe to include only the top 20 countries\n",
        "nfdb_top_countries = nfdb[nfdb['country'].apply(lambda x: any(c.strip() in top_countries for c in str(x).split(',')))]\n",
        "\n",
        "# Create a cross-tabulation of target age and country\n",
        "country_age_counts = pd.crosstab(nfdb_top_countries['target_ages'], nfdb_top_countries['country'])\n",
        "\n",
        "# Ensure only the top 20 countries columns are included in the crosstab\n",
        "country_age_counts = country_age_counts[top_countries]\n",
        "\n",
        "\n",
        "# Plot the heatmap\n",
        "plt.figure(figsize=(15, 8))\n",
        "sns.heatmap(country_age_counts, annot=True, fmt='d', cmap='YlGnBu')\n",
        "plt.title('Heatmap of Target Age by Top 20 Countries')\n",
        "plt.xlabel('Country')\n",
        "plt.ylabel('Target Age')\n",
        "plt.xticks(rotation=45, ha='right')\n",
        "plt.tight_layout()\n",
        "plt.show()"
      ],
      "metadata": {
        "id": "kq4XOKmAxDBn"
      },
      "execution_count": null,
      "outputs": []
    },
    {
      "cell_type": "markdown",
      "source": [
        "##### 1. Why did you pick the specific chart?"
      ],
      "metadata": {
        "id": "X_VqEhTip1ck"
      }
    },
    {
      "cell_type": "markdown",
      "source": [
        "Answer Here\n",
        "\n",
        "A heatmap is a suitable choice when visualizing the relationships between two categorical variables, in this case, countries and age groups. It allows for a clear representation of patterns, trends, and comparisons across different categories"
      ],
      "metadata": {
        "id": "-vsMzt_np1ck"
      }
    },
    {
      "cell_type": "markdown",
      "source": [
        "##### 3. Will the gained insights help creating a positive business impact?\n",
        "Are there any insights that lead to negative growth? Justify with specific reason."
      ],
      "metadata": {
        "id": "PVzmfK_Ep1ck"
      }
    },
    {
      "cell_type": "markdown",
      "source": [
        "Answer Here\n",
        "\n",
        "Answer Here\n",
        "\n",
        "The gained insights can potentially help in creating a positive business impact, depending on the context and specific business goals.\n",
        "\n",
        "1-Product Development\n",
        "\n",
        "2-Market Expansion\n",
        "\n",
        "3-Partnerships and Collaborations"
      ],
      "metadata": {
        "id": "druuKYZpp1ck"
      }
    },
    {
      "cell_type": "markdown",
      "source": [
        "#### Chart - 12"
      ],
      "metadata": {
        "id": "n3dbpmDWp1ck"
      }
    },
    {
      "cell_type": "code",
      "source": [
        "# prompt: Heatmap correlataion Betweeen target age and genre\n",
        "\n",
        "import pandas as pd\n",
        "import matplotlib.pyplot as plt\n",
        "# Assuming 'nfdb' DataFrame is already loaded and preprocessed as in the preceding code\n",
        "\n",
        "# Create a copy to avoid modifying the original DataFrame during split\n",
        "nfdb_genres_ages = nfdb[['listed_in', 'target_ages']].copy()\n",
        "\n",
        "# Split the 'listed_in' column into individual genres and explode them\n",
        "nfdb_genres_ages['listed_in'] = nfdb_genres_ages['listed_in'].str.split(',')\n",
        "nfdb_genres_ages = nfdb_genres_ages.explode('listed_in')\n",
        "nfdb_genres_ages['listed_in'] = nfdb_genres_ages['listed_in'].str.strip() # Remove leading/trailing whitespace\n",
        "\n",
        "\n",
        "# Create a cross-tabulation of target age and genre\n",
        "genre_age_counts = pd.crosstab(nfdb_genres_ages['target_ages'], nfdb_genres_ages['listed_in'])\n",
        "\n",
        "# Plot the heatmap\n",
        "plt.figure(figsize=(18, 10))\n",
        "sns.heatmap(genre_age_counts, annot=True, fmt='d', cmap='YlGnBu')\n",
        "plt.title('Heatmap of Target Age by Genre')\n",
        "plt.xlabel('Genre')\n",
        "plt.ylabel('Target Age')\n",
        "plt.xticks(rotation=90, ha='right')\n",
        "plt.tight_layout()\n",
        "plt.show()"
      ],
      "metadata": {
        "id": "bwevp1tKp1ck"
      },
      "execution_count": null,
      "outputs": []
    },
    {
      "cell_type": "markdown",
      "source": [
        "##### 1. Why did you pick the specific chart?"
      ],
      "metadata": {
        "id": "ylSl6qgtp1ck"
      }
    },
    {
      "cell_type": "markdown",
      "source": [
        "Answer Here.\n",
        "\n",
        "The heatmap is a suitable choice for this scenario because it allows me to represent the data using color encoding. The color intensity represents the frequency or proportion of movie genres within each age group.\n"
      ],
      "metadata": {
        "id": "m2xqNkiQp1ck"
      }
    },
    {
      "cell_type": "markdown",
      "source": [
        "##### 2. What is/are the insight(s) found from the chart?"
      ],
      "metadata": {
        "id": "ZWILFDl5p1ck"
      }
    },
    {
      "cell_type": "markdown",
      "source": [
        "Answer Here\n",
        "\n",
        "The genre with the highest target audience of 2000 adults is drama and international moveies.Comedies and International TV shows  also have a significant target audience with  1000 Primarily catering to Teens ,adults, Kids & TV shows have a target."
      ],
      "metadata": {
        "id": "x-lUsV2mp1ck"
      }
    },
    {
      "cell_type": "markdown",
      "source": [
        "# 4. Hypothesis Testing"
      ],
      "metadata": {
        "id": "cEX_Cz5lzl-h"
      }
    },
    {
      "cell_type": "code",
      "source": [
        "#making copy of df_clean_frame\n",
        "netflix_hypothesis=nfdb.copy()\n",
        "#head of df_hypothesis\n",
        "netflix_hypothesis.head()\n"
      ],
      "metadata": {
        "id": "HmHLBWYPzyix"
      },
      "execution_count": null,
      "outputs": []
    },
    {
      "cell_type": "code",
      "source": [
        "netflix_hypothesis = netflix_hypothesis[netflix_hypothesis[\"type\"] == \"Movie\"]"
      ],
      "metadata": {
        "id": "EVuu8IK6z72B"
      },
      "execution_count": null,
      "outputs": []
    },
    {
      "cell_type": "code",
      "source": [
        "ratings_ages = {\n",
        "    'TV-PG': 'Older Kids',\n",
        "    'TV-MA': 'Adults',\n",
        "    'TV-Y7-FV': 'Older Kids',\n",
        "    'TV-Y7': 'Older Kids',\n",
        "    'TV-14': 'Teens',\n",
        "    'R': 'Adults',\n",
        "    'TV-Y': 'Kids',\n",
        "    'NR': 'Adults',\n",
        "    'PG-13': 'Teens',\n",
        "    'TV-G': 'Kids',\n",
        "    'PG': 'Older Kids',\n",
        "    'G': 'Kids',\n",
        "    'UR': 'Adults',\n",
        "    'NC-17': 'Adults'\n",
        "}\n",
        "\n",
        "netflix_hypothesis['target_ages'] = netflix_hypothesis['rating'].replace(ratings_ages)\n",
        "#let's see unique target ages\n",
        "netflix_hypothesis['target_ages'].unique()"
      ],
      "metadata": {
        "id": "7U_rkW550BTB"
      },
      "execution_count": null,
      "outputs": []
    },
    {
      "cell_type": "code",
      "source": [
        "netflix_hypothesis['target_ages'] = pd.Categorical(netflix_hypothesis['target_ages'], categories=['Kids', 'Older Kids', 'Teens', 'Adults'])\n",
        "\n",
        "netflix_hypothesis['duration'] = netflix_hypothesis['duration'].astype(str)  # Convert to string type\n",
        "netflix_hypothesis['duration'] = netflix_hypothesis['duration'].str.extract('(\\d+)')\n",
        "netflix_hypothesis['duration'] = pd.to_numeric(netflix_hypothesis['duration'])\n",
        "\n",
        "netflix_hypothesis.head(3)"
      ],
      "metadata": {
        "id": "A0FfHujA0GM1"
      },
      "execution_count": null,
      "outputs": []
    },
    {
      "cell_type": "code",
      "source": [
        "#group_by duration and target_ages\n",
        "group_by_= netflix_hypothesis[['duration','target_ages']].groupby(by='target_ages')\n",
        "#mean of group_by variable\n",
        "group=group_by_.mean().reset_index()\n",
        "group\n"
      ],
      "metadata": {
        "id": "_a0jWY9y0Pxl"
      },
      "execution_count": null,
      "outputs": []
    },
    {
      "cell_type": "code",
      "source": [
        "#In A and B variable grouping values\n",
        "A= group_by_.get_group('Kids')\n",
        "B= group_by_.get_group('Older Kids')\n",
        "#mean and std. calutation for kids and older kids variables\n",
        "\n",
        "M1 = A.select_dtypes(include='number').mean()\n",
        "S1 = A.select_dtypes(include='number').std()\n",
        "\n",
        "M2 = B.select_dtypes(include='number').mean()\n",
        "S2 = B.select_dtypes(include='number').std()\n",
        "\n",
        "print('Mean for movies rated for Kids {} \\n Mean for  movies rated for older kids {}'.format(M1,M2))\n",
        "print('Std for  movies rated for Older Kids {} \\n Std for  movies rated for kids {}'.format(S2,S1))\n"
      ],
      "metadata": {
        "id": "9OY4YgPZ0rcL"
      },
      "execution_count": null,
      "outputs": []
    },
    {
      "cell_type": "code",
      "source": [
        "#import stats\n",
        "from scipy import stats\n",
        "#length of groups and DOF\n",
        "n1 = len(A)\n",
        "n2= len(B)\n",
        "print(n1,n2)\n",
        "\n",
        "dof = n1+n2-2\n",
        "print('dof',dof)\n",
        "\n",
        "sp_2 = ((n2-1)*S1**2  + (n1-1)*S2**2) / dof\n",
        "print('SP_2 =',sp_2)\n",
        "\n",
        "sp = np.sqrt(sp_2)\n",
        "print('SP',sp)\n",
        "\n",
        "#tvalue\n",
        "t_val = (M1-M2)/(sp * np.sqrt(1/n1 + 1/n2))\n",
        "print('tvalue',t_val[0])"
      ],
      "metadata": {
        "id": "0fVd8Ov-1YY3"
      },
      "execution_count": null,
      "outputs": []
    },
    {
      "cell_type": "code",
      "source": [
        "#t-distribution\n",
        "stats.t.ppf(0.025,dof)"
      ],
      "metadata": {
        "id": "bKiF5jf41f8I"
      },
      "execution_count": null,
      "outputs": []
    },
    {
      "cell_type": "code",
      "source": [
        "#t-distribution\n",
        "stats.t.ppf(0.975,dof)"
      ],
      "metadata": {
        "id": "sWBB03OH1jYj"
      },
      "execution_count": null,
      "outputs": []
    },
    {
      "cell_type": "markdown",
      "source": [
        "Based on your chart experiments, define two hypothetical statements from the dataset. In the next two questions, perform hypothesis testing to obtain final conclusion about the statements through your code and statistical testing.\n",
        "\n",
        "Hypothetical Statement - 1"
      ],
      "metadata": {
        "id": "5rjYJbyqBEqE"
      }
    },
    {
      "cell_type": "markdown",
      "source": [
        "\n",
        "1.State Your research hypothesis as a null hypothesis and alternate hypothesis.\n",
        "\n",
        "Answer Here.\n",
        "\n",
        "HO:Movies rated for kids and older kids are at least two hours long.(Null Hypothesis)\n",
        "\n",
        "H1:Movies rated for kids and older kids are not at least two hours long.(Alternate Hypothesis)\n",
        "\n",
        "2.Perform an appropriate statistical test."
      ],
      "metadata": {
        "id": "GJ6VzKnsBH97"
      }
    },
    {
      "cell_type": "code",
      "source": [
        "#t-distribution\n",
        "stats.t.ppf(0.025,dof)"
      ],
      "metadata": {
        "id": "UPwoTf1F1g1E"
      },
      "execution_count": null,
      "outputs": []
    },
    {
      "cell_type": "code",
      "source": [
        "#t-distribution\n",
        "stats.t.ppf(0.975,dof)"
      ],
      "metadata": {
        "id": "tXrPoWOaBRMP"
      },
      "execution_count": null,
      "outputs": []
    },
    {
      "cell_type": "markdown",
      "source": [
        "Answer Here.\n",
        "\n",
        "t-value is not in the range, the null hypothesis is rejected.\n",
        "\n",
        "As a result, movies rated for kids and older kids are not at least two hours long."
      ],
      "metadata": {
        "id": "JIe3JlhlBYR3"
      }
    },
    {
      "cell_type": "markdown",
      "source": [
        "Hypothetical Statement - 2\n",
        "\n",
        "1.State Your research hypothesis as a null hypothesis .\n",
        "\n",
        "Answer Here.\n",
        "\n",
        "H1:The duration which is more than 90 mins are movies\n",
        "\n",
        "HO:The duration which is more than 90 mins are NOT movies"
      ],
      "metadata": {
        "id": "I4riVT_mBgC2"
      }
    },
    {
      "cell_type": "code",
      "source": [
        "#making copy of df_clean_frame\n",
        "netflix_hypothesis=nfdb.copy()\n",
        "#head of df_hypothesis\n",
        "netflix_hypothesis.head()"
      ],
      "metadata": {
        "id": "CTgoaJcVBRBr"
      },
      "execution_count": null,
      "outputs": []
    },
    {
      "cell_type": "code",
      "source": [
        "netflix_hypothesis['duration']= netflix_hypothesis['duration'].str.extract('(\\d+)')\n",
        "netflix_hypothesis['duration'] = pd.to_numeric(netflix_hypothesis['duration'])\n"
      ],
      "metadata": {
        "id": "PuKElo8FBt4Y"
      },
      "execution_count": null,
      "outputs": []
    },
    {
      "cell_type": "code",
      "source": [
        "netflix_hypothesis['type'] = pd.Categorical(netflix_hypothesis['type'], categories=['Movie','TV Show'])\n",
        "#from duration feature extractin string part and after extracting Changing the object type to numeric\n",
        "#df_hypothesis['duration']= df_hypothesis['duration'].str.extract('(\\d+)')\n",
        "#df_hypothesis['duration'] = pd.to_numeric(df_hypothesis['duration'])\n",
        "#head of df_\n",
        "netflix_hypothesis.head(3)"
      ],
      "metadata": {
        "id": "NOO8TylNBwUK"
      },
      "execution_count": null,
      "outputs": []
    },
    {
      "cell_type": "code",
      "source": [
        "# Perform Statistical Test to obtain P-Value\n",
        "#group_by duration and TYPE\n",
        "group_by_= netflix_hypothesis[['duration','type']].groupby(by='type')\n",
        "#mean of group_by variable\n",
        "group1=group_by_.mean().reset_index()\n",
        "group1"
      ],
      "metadata": {
        "id": "CZe11zHLB-df"
      },
      "execution_count": null,
      "outputs": []
    },
    {
      "cell_type": "code",
      "source": [
        "#In A and B variable grouping values\n",
        "A= group_by_.get_group('Movie')\n",
        "B= group_by_.get_group('TV Show')\n",
        "#mean and std\n",
        "M1 = A.select_dtypes(include='number').mean()\n",
        "S1 = A.select_dtypes(include='number').std()\n",
        "\n",
        "M2 = B.select_dtypes(include='number').mean()\n",
        "S2 = B.select_dtypes(include='number').std()\n",
        "\n",
        "print('Mean  {}'.format(M1,M2))\n",
        "print('Std  {}'.format(S2,S1))\n"
      ],
      "metadata": {
        "id": "9c7tWdJJB8z3"
      },
      "execution_count": null,
      "outputs": []
    },
    {
      "cell_type": "code",
      "source": [
        "from scipy import stats\n",
        "#length of groups and DOF\n",
        "n1 = len(A)\n",
        "n2= len(B)\n",
        "print(n1,n2)\n",
        "\n",
        "dof = n1+n2-2\n",
        "print('dof',dof)\n",
        "\n",
        "sp_2 = ((n2-1)*S1**2  + (n1-1)*S2**2) / dof\n",
        "print('SP_2 =',sp_2)\n",
        "\n",
        "sp = np.sqrt(sp_2)\n",
        "print('SP',sp)\n",
        "\n",
        "#tvalue\n",
        "t_val = (M1-M2)/(sp * np.sqrt(1/n1 + 1/n2))\n",
        "print('tvalue',t_val[0])\n"
      ],
      "metadata": {
        "id": "VpdYZp0vBwI_"
      },
      "execution_count": null,
      "outputs": []
    },
    {
      "cell_type": "markdown",
      "source": [
        "Perform Statistical Test to obtain P-Value\n"
      ],
      "metadata": {
        "id": "Desl1XAvCZ-z"
      }
    },
    {
      "cell_type": "code",
      "source": [
        "stats.t.ppf(0.025,dof)\n"
      ],
      "metadata": {
        "id": "OtEfAh6nCRlF"
      },
      "execution_count": null,
      "outputs": []
    },
    {
      "cell_type": "code",
      "source": [
        "stats.t.ppf(0.975,dof)\n"
      ],
      "metadata": {
        "id": "yVD-9q7eCRck"
      },
      "execution_count": null,
      "outputs": []
    },
    {
      "cell_type": "markdown",
      "source": [
        "Answer Here.\n",
        "\n",
        "Because the t-value is not in the range, the null hypothesis is rejected."
      ],
      "metadata": {
        "id": "22x2mtzbChKA"
      }
    },
    {
      "cell_type": "markdown",
      "source": [
        "## **Feature Engineering & Data Pre-processing**"
      ],
      "metadata": {
        "id": "JcMwzZxoAimU"
      }
    },
    {
      "cell_type": "code",
      "source": [
        "nfdb['clustering'] = (nfdb['director'] + ' ' + nfdb['cast'] +' ' +\n",
        "                                 nfdb['country'] +' ' + nfdb['listed_in'] +\n",
        "                                 ' ' + nfdb['description'])"
      ],
      "metadata": {
        "id": "9sQs2g2SNVmU"
      },
      "execution_count": null,
      "outputs": []
    },
    {
      "cell_type": "code",
      "source": [
        "nfdb['clustering'][25]"
      ],
      "metadata": {
        "id": "NMGfD0OrNkmy"
      },
      "execution_count": null,
      "outputs": []
    },
    {
      "cell_type": "markdown",
      "source": [
        "# Textual Data Preprocessing\n"
      ],
      "metadata": {
        "id": "cZC0Z05NNnkG"
      }
    },
    {
      "cell_type": "code",
      "source": [
        "# Expand Contraction\n",
        "# Lower Casing\n",
        "# Remove Punctuations\n",
        "# Remove URLs & Remove words and digits contain digits\n",
        "# Remove Stopwords\n",
        "# Remove White spaces\n",
        "# Rephrase Text\n",
        "# Tokenization\n",
        "# Normalizing Text (i.e., Stemming, Lemmatization etc.)\n",
        "\n",
        "import re\n",
        "import nltk\n",
        "from nltk.corpus import stopwords\n",
        "from nltk.stem import PorterStemmer, WordNetLemmatizer\n",
        "import string\n",
        "import nltk\n",
        "nltk.download('all',quiet=True)\n",
        "from PIL import Image\n",
        "\n",
        "def transform_text(text):\n",
        "    # Convert text to lowercase\n",
        "    text = text.lower()\n",
        "\n",
        "    # Remove URLs\n",
        "    text = re.sub(r'http\\S+', '', text)\n",
        "\n",
        "    # Tokenize text into words\n",
        "    words = nltk.word_tokenize(text)\n",
        "\n",
        "    # Remove non-alphanumeric characters\n",
        "    words = [word for word in words if word.isalnum()]\n",
        "\n",
        "    # Remove stopwords and punctuation\n",
        "    stopwords_set = set(stopwords.words('english'))\n",
        "    punctuation_set = set(string.punctuation)\n",
        "    words = [word for word in words if word not in stopwords_set and word not in punctuation_set]\n",
        "\n",
        "    # Lemmatize words\n",
        "    lemmatizer = WordNetLemmatizer()\n",
        "    lemmatized_words = [lemmatizer.lemmatize(word) for word in words]\n",
        "\n",
        "    # Join words into a string and return\n",
        "    return ' '.join(lemmatized_words)"
      ],
      "metadata": {
        "id": "yBo7fr1TN0NZ"
      },
      "execution_count": null,
      "outputs": []
    },
    {
      "cell_type": "code",
      "source": [
        "nfdb['Clean_Text'] = nfdb['clustering'].apply(transform_text)\n"
      ],
      "metadata": {
        "id": "xTEH9vcEONbY"
      },
      "execution_count": null,
      "outputs": []
    },
    {
      "cell_type": "code",
      "source": [
        "nfdb[\"Clean_Text\"][50]\n"
      ],
      "metadata": {
        "id": "6bspsEQmOWFw"
      },
      "execution_count": null,
      "outputs": []
    },
    {
      "cell_type": "markdown",
      "source": [
        "#Text Vectorization\n",
        "\n",
        "**TF-IDF combines two metrics: Term frequency (TF) and inverse document frequency (IDF).**\n",
        "\n",
        "Term Frequency (TF): This metric measures the frequency of a term in a document. It assumes that the more often a term appears in a document, the more relevant it is to that document. It is calculated using the formula:\n",
        "\n",
        "**TF(t, d)** = (Number of times term t appears in document d) / (Total number of terms in document d)\n",
        "\n",
        "**Inverse Document Frequency (IDF):** This metric measures the importance of a term across a collection of documents. It gives higher weight to terms that appear less frequently in the entire collection. It is calculated using the formula:\n",
        "\n",
        "IDF(t) = log_e(Total number of documents / Number of documents containing term t)"
      ],
      "metadata": {
        "id": "cO0ZmrNIOZRe"
      }
    },
    {
      "cell_type": "code",
      "source": [
        "bag_of_words = nfdb.Clean_Text"
      ],
      "metadata": {
        "id": "HsYtAS7yOjZ1"
      },
      "execution_count": null,
      "outputs": []
    },
    {
      "cell_type": "code",
      "source": [
        "t_vectorizer = TfidfVectorizer(max_features=20000)\n",
        "X= t_vectorizer.fit_transform(bag_of_words)"
      ],
      "metadata": {
        "id": "aFIZ5iFKOnkm"
      },
      "execution_count": null,
      "outputs": []
    },
    {
      "cell_type": "code",
      "source": [
        "print(X.shape)\n"
      ],
      "metadata": {
        "id": "UKeEjeTjOqrN"
      },
      "execution_count": null,
      "outputs": []
    },
    {
      "cell_type": "code",
      "source": [
        "t_vectorizer.get_feature_names_out()"
      ],
      "metadata": {
        "id": "EWLKOk2eOtL0"
      },
      "execution_count": null,
      "outputs": []
    },
    {
      "cell_type": "markdown",
      "source": [
        "#Dimesionality Reduction\n",
        "Do you think that dimensionality reduction is needed? Explain Why\n",
        "\n",
        "Answer Here.\n",
        "\n",
        "PCA to reduce the dimensionality of the dataset. PCA identifies the directions (principal components) along which the data varies the most. These components are ordered by the amount of variance they explain in the data."
      ],
      "metadata": {
        "id": "SBZEyFDBOv9R"
      }
    },
    {
      "cell_type": "code",
      "source": [
        "transformer = PCA()\n",
        "transformer.fit(X.toarray())"
      ],
      "metadata": {
        "id": "9rOz6oBDOvrA"
      },
      "execution_count": null,
      "outputs": []
    },
    {
      "cell_type": "markdown",
      "source": [
        "Which dimensionality reduction technique have you used and why? (If dimensionality reduction done on dataset.)\n",
        "\n",
        "Answer Here\n",
        "\n",
        "PCA can extract the most relevant features from a dataset. It transforms the original features into a new set of uncorrelated variables called principal components. These components are linear combinations of the original features and capture the maximum amount of variation present in the data."
      ],
      "metadata": {
        "id": "TOzUH0D9PMMF"
      }
    },
    {
      "cell_type": "code",
      "source": [
        "import matplotlib.pyplot as plt\n",
        "plt.figure(figsize=(15,5), dpi=120)\n",
        "plt.plot(np.cumsum(transformer.explained_variance_ratio_))\n",
        "plt.xlabel('number of components')\n",
        "plt.ylabel('cumulative explained variance')\n",
        "plt.axhline(y=0.95, color='r', linestyle='--',linewidth=2, label='95% Explained Variance')\n",
        "plt.grid()\n",
        "plt.show()"
      ],
      "metadata": {
        "id": "RH6Zp0DWO4HJ"
      },
      "execution_count": null,
      "outputs": []
    },
    {
      "cell_type": "markdown",
      "source": [
        "The plot helps in determining the number of components to consider for dimensionality reduction. You can select the number of components where the cumulative explained variance reaches a satisfactory threshold, such as 95%. The point where the curve intersects or is closest to the threshold line can guide you in choosing the appropriate number of components for your analysis."
      ],
      "metadata": {
        "id": "09W3cLfYPRWc"
      }
    },
    {
      "cell_type": "code",
      "source": [
        "from sklearn.decomposition import PCA\n",
        "# Create an instance of PCA with the desired explained variance ratio\n",
        "pca_tuned = PCA(n_components=0.95)\n",
        "# Fit the PCA model on the input data, X, which is converted to a dense array\n",
        "pca_tuned.fit(X.toarray())\n",
        "# Transform the input data, X, to its reduced dimensional representation\n",
        "X_transformed = pca_tuned.transform(X.toarray())\n",
        "# Print the shape of the transformed data to see the number of samples and transformed features\n",
        "print(X_transformed.shape)"
      ],
      "metadata": {
        "id": "jJlJxiaoPRAk"
      },
      "execution_count": null,
      "outputs": []
    },
    {
      "cell_type": "code",
      "source": [
        "X_transformed"
      ],
      "metadata": {
        "id": "kwiLEMVYPYao"
      },
      "execution_count": null,
      "outputs": []
    },
    {
      "cell_type": "markdown",
      "source": [
        "#ML Model Implementation"
      ],
      "metadata": {
        "id": "WtJHQoTnPc6s"
      }
    },
    {
      "cell_type": "code",
      "source": [
        "from sklearn.cluster import KMeans\n",
        "from yellowbrick.cluster import KElbowVisualizer\n",
        "\n",
        "# Initialize the KMeans model with a random_state of 5\n",
        "model = KMeans(random_state=5)\n",
        "\n",
        "# Initialize the KElbowVisualizer with the KMeans model and desired parameters\n",
        "visualizer = KElbowVisualizer(model, k=(4, 22), metric='silhouette', timings=False, locate_elbow=True)\n",
        "\n",
        "# Fit the visualizer on the transformed data\n",
        "visualizer.fit(X_transformed)\n",
        "\n",
        "# Display the elbow plot\n",
        "visualizer.show()"
      ],
      "metadata": {
        "id": "npIbSJFmPbys"
      },
      "execution_count": null,
      "outputs": []
    },
    {
      "cell_type": "markdown",
      "source": [
        "The plot will also indicate the \"elbow\" point, which represents the recommended number of clusters based on the selected metric.Using elbow plot with the optimal number of 5 clusters ."
      ],
      "metadata": {
        "id": "I9TRMLw0PjVH"
      }
    },
    {
      "cell_type": "code",
      "source": [
        "from yellowbrick.cluster import SilhouetteVisualizer\n",
        "from sklearn.metrics import silhouette_score, silhouette_samples\n",
        "\n",
        "def silhouette_score_analysis(n):\n",
        "\n",
        "  for n_clusters in range(2,n):\n",
        "      km = KMeans (n_clusters=n_clusters, random_state=5)\n",
        "      preds = km.fit_predict(X_transformed)\n",
        "      centers = km.cluster_centers_\n",
        "\n",
        "      score = silhouette_score(X_transformed, preds, metric='euclidean')\n",
        "      print (\"For n_clusters = {}, silhouette score is {}\".format(n_clusters, score))\n",
        "\n",
        "      visualizer = SilhouetteVisualizer(km)\n",
        "\n",
        "      visualizer.fit(X_transformed) # Fit the training data to the visualizer\n",
        "      visualizer.poof() # Draw/show/poof the data"
      ],
      "metadata": {
        "id": "OEk9mlAxPbvg"
      },
      "execution_count": null,
      "outputs": []
    },
    {
      "cell_type": "code",
      "source": [
        "silhouette_score_analysis(15)"
      ],
      "metadata": {
        "id": "P_HG3SVMPbsk"
      },
      "execution_count": null,
      "outputs": []
    },
    {
      "cell_type": "code",
      "source": [
        "# Create a figure with a larger size and resolution\n",
        "plt.figure(figsize=(20, 8), dpi=120)\n",
        "\n",
        "# Initialize a KMeans model with 15 clusters\n",
        "kmeans = KMeans(n_clusters=15, init='k-means++', random_state=9)\n",
        "\n",
        "# Fit the KMeans algorithm to the transformed data\n",
        "kmeans.fit(X_transformed)\n",
        "\n",
        "# Predict the labels of the clusters\n",
        "label = kmeans.fit_predict(X_transformed)\n",
        "\n",
        "# Get unique labels from the predictions\n",
        "unique_labels = np.unique(label)\n",
        "\n",
        "# Plot the results\n",
        "for i in unique_labels:\n",
        "    # Scatter plot the points belonging to each cluster\n",
        "    plt.scatter(X_transformed[label == i, 0], X_transformed[label == i, 1], label=i)\n",
        "\n",
        "# Display a legend to identify the clusters\n",
        "plt.legend()\n",
        "\n",
        "# Show the plot\n",
        "plt.show()"
      ],
      "metadata": {
        "id": "hVH-_qfgrP55"
      },
      "execution_count": null,
      "outputs": []
    },
    {
      "cell_type": "code",
      "source": [
        "nfdb['cluster_number'] = kmeans.labels_\n"
      ],
      "metadata": {
        "id": "14QHLYPQwpvp"
      },
      "execution_count": null,
      "outputs": []
    },
    {
      "cell_type": "code",
      "source": [
        "nfdb.head(5)"
      ],
      "metadata": {
        "id": "HTdf37kPrSHx"
      },
      "execution_count": null,
      "outputs": []
    },
    {
      "cell_type": "code",
      "source": [
        "# Count the number of movies or TV shows in each cluster\n",
        "cluster_content_count = nfdb['cluster_number'].value_counts().reset_index().rename(columns={'index': 'clusters', 'clusters': 'Movies/TV_Shows'})\n",
        "\n",
        "# Print the cluster content count\n",
        "print(cluster_content_count)"
      ],
      "metadata": {
        "id": "IIudhUG8wQuO"
      },
      "execution_count": null,
      "outputs": []
    },
    {
      "cell_type": "markdown",
      "source": [
        "A recommender system is a type of information filtering system that suggests items to users based on their preferences, interests, or past behavior. It is commonly used in various applications such as e-commerce websites, streaming platforms, social media, and more. The goal of a recommender system is to provide personalized recommendations that are relevant and helpful to the individual user.\n",
        "\n",
        "Content-based filtering: This approach recommends items similar to the ones a user has liked or interacted with in the past. It analyzes the content or attributes of items and finds similar items to recommend. For example, if a user enjoys watching action movies, the system may recommend other action movies based on genre, actors, or plot."
      ],
      "metadata": {
        "id": "mj16LHzto3oS"
      }
    },
    {
      "cell_type": "code",
      "source": [
        "from sklearn.metrics.pairwise import cosine_similarity\n",
        "from sklearn.feature_extraction.text import CountVectorizer"
      ],
      "metadata": {
        "id": "iN6GKlMqot88"
      },
      "execution_count": null,
      "outputs": []
    },
    {
      "cell_type": "code",
      "source": [
        "#removing stopwords\n",
        "tfidf = TfidfVectorizer(stop_words='english')\n",
        "\n",
        "#Replace NaN with an empty string\n",
        "nfdb['description'] = nfdb['description'].fillna('')\n",
        "\n",
        "#Construct the required TF-IDF matrix by fitting and transforming the data\n",
        "tfidf_matrix = tfidf.fit_transform(nfdb['description'])\n",
        "\n",
        "#Output the shape of tfidf_matrix\n",
        "tfidf_matrix.shape\n",
        ""
      ],
      "metadata": {
        "id": "WLrBnSqiot1a"
      },
      "execution_count": null,
      "outputs": []
    },
    {
      "cell_type": "code",
      "source": [
        "from sklearn.metrics.pairwise import linear_kernel\n",
        "cosine_sim = linear_kernel(tfidf_matrix, tfidf_matrix)\n"
      ],
      "metadata": {
        "id": "Fx4f3-n2pFFC"
      },
      "execution_count": null,
      "outputs": []
    },
    {
      "cell_type": "code",
      "source": [
        "cosine_sim\n"
      ],
      "metadata": {
        "id": "jIXKah5WpFWi"
      },
      "execution_count": null,
      "outputs": []
    },
    {
      "cell_type": "code",
      "source": [
        "indices = pd.Series(nfdb.index, index=nfdb['title']).drop_duplicates()\n"
      ],
      "metadata": {
        "id": "lhdXdgAPpL7C"
      },
      "execution_count": null,
      "outputs": []
    },
    {
      "cell_type": "code",
      "source": [
        "def get_recommendations(title, cosine_sim=cosine_sim):\n",
        "    idx = indices[title]\n",
        "\n",
        "    # Get the pairwsie similarity scores of all movies with that movie\n",
        "    sim_scores = list(enumerate(cosine_sim[idx]))\n",
        "\n",
        "    # Sort the movies based on the similarity scores\n",
        "    sim_scores = sorted(sim_scores, key=lambda x: x[1], reverse=True)\n",
        "\n",
        "    # Get the scores of the 10 most similar movies\n",
        "    sim_scores = sim_scores[1:11]\n",
        "    # Get the movie indices\n",
        "    movie_indices = [i[0] for i in sim_scores]\n",
        "\n",
        "    # Return the top 10 most similar movies\n",
        "    return nfdb['title'].iloc[movie_indices]"
      ],
      "metadata": {
        "id": "zExzdu5NpTW4"
      },
      "execution_count": null,
      "outputs": []
    },
    {
      "cell_type": "code",
      "source": [
        "nfdb['title'][1:70]\n"
      ],
      "metadata": {
        "id": "nBI6Aum9pXhK"
      },
      "execution_count": null,
      "outputs": []
    },
    {
      "cell_type": "code",
      "source": [
        "get_recommendations( '14 Blades',cosine_sim)\n"
      ],
      "metadata": {
        "id": "e9BbtNn1piat"
      },
      "execution_count": null,
      "outputs": []
    },
    {
      "cell_type": "markdown",
      "source": [
        "# **Conclusion**"
      ],
      "metadata": {
        "id": "gCX9965dhzqZ"
      }
    },
    {
      "cell_type": "markdown",
      "source": [
        "1- It is interesting to note that the majority of the content available on Netflix consists of movies. However, in recent years, the platform has been focusing more on TV shows.\n",
        "\n",
        "2- Most of these shows are released either at the end or the beginning of the year.\n",
        "\n",
        "3- The United States and India are among the top five countries that produce all of the available content on the platform. Additionally, out of the top ten actors with the maximum content, six of them are from India.\n",
        "\n",
        "4- When it comes to content ratings, TV-MA tops the charts, indicating that mature content is more popular on Netflix.\n",
        "\n",
        "5- The value of k=15 was found to be optimal for clustering the data, and it was used to group the content into ten distinct clusters.\n",
        "\n",
        "6- Using this data, a Content based recommender system was created using cosine similarity, which provided recommendations for Movies and TV shows."
      ],
      "metadata": {
        "id": "Fjb1IsQkh3yE"
      }
    },
    {
      "cell_type": "markdown",
      "source": [
        "### ***Hurrah! You have successfully completed your EDA Capstone Project !!!***"
      ],
      "metadata": {
        "id": "gIfDvo9L0UH2"
      }
    }
  ]
}